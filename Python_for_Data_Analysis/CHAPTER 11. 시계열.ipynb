version https://git-lfs.github.com/spec/v1
oid sha256:e792bd43978cab4e865b400036b0ec8becf1a56effb69a821a5b412ccc1ddddf
size 289103

version https://git-lfs.github.com/spec/v1
oid sha256:42a245329367c4428155bffc507bc3cf8c1e5c52da4edf449c0532a07a9a2af9
size 14513

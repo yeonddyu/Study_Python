version https://git-lfs.github.com/spec/v1
oid sha256:ffbf342431f8354dcbb4104ab870b5122abd1ca46be196eb702e57809a506fa2
size 504901
